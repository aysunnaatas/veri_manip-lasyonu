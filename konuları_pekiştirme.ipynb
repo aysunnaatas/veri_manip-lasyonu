{
 "cells": [
  {
   "cell_type": "code",
   "execution_count": 83,
   "id": "33c426c3-dbbc-4ea0-8d01-7d9a6e359aa1",
   "metadata": {},
   "outputs": [],
   "source": [
    "import numpy as np"
   ]
  },
  {
   "cell_type": "code",
   "execution_count": 8,
   "id": "27dd3117-0884-405e-8647-41c03e46ceca",
   "metadata": {},
   "outputs": [
    {
     "data": {
      "text/plain": [
       "array([1, 2, 3, 4, 5, 6, 7, 8, 9])"
      ]
     },
     "execution_count": 8,
     "metadata": {},
     "output_type": "execute_result"
    }
   ],
   "source": [
    "a=np.arange(1,10)\n",
    "a"
   ]
  },
  {
   "cell_type": "code",
   "execution_count": 9,
   "id": "6739064c-e970-4bc1-aeac-f938a1adca56",
   "metadata": {},
   "outputs": [
    {
     "data": {
      "text/plain": [
       "array([ 1,  2,  5,  8, 90])"
      ]
     },
     "execution_count": 9,
     "metadata": {},
     "output_type": "execute_result"
    }
   ],
   "source": [
    "b=np.array([1,2,5,8,90])\n",
    "b"
   ]
  },
  {
   "cell_type": "code",
   "execution_count": 10,
   "id": "424591d2-46bc-49ff-a5b3-aa1b004b3560",
   "metadata": {},
   "outputs": [
    {
     "data": {
      "text/plain": [
       "90"
      ]
     },
     "execution_count": 10,
     "metadata": {},
     "output_type": "execute_result"
    }
   ],
   "source": [
    "b[4]"
   ]
  },
  {
   "cell_type": "code",
   "execution_count": 11,
   "id": "6b643ed7-e34c-4374-8ca4-4c5e4f2aecec",
   "metadata": {},
   "outputs": [
    {
     "data": {
      "text/plain": [
       "array([ 1,  2, 20,  8, 90])"
      ]
     },
     "execution_count": 11,
     "metadata": {},
     "output_type": "execute_result"
    }
   ],
   "source": [
    "b[2]=20\n",
    "b"
   ]
  },
  {
   "cell_type": "code",
   "execution_count": 12,
   "id": "a22ab2a2-6c7b-4aba-a679-17207143a1a9",
   "metadata": {},
   "outputs": [
    {
     "data": {
      "text/plain": [
       "array([[1, 2, 3],\n",
       "       [4, 5, 6],\n",
       "       [7, 8, 9]])"
      ]
     },
     "execution_count": 12,
     "metadata": {},
     "output_type": "execute_result"
    }
   ],
   "source": [
    "a=np.arange(1,10).reshape(3,3)\n",
    "a"
   ]
  },
  {
   "cell_type": "code",
   "execution_count": 18,
   "id": "c146488d-c55b-4314-a834-47fb5a10fd8d",
   "metadata": {},
   "outputs": [
    {
     "data": {
      "text/plain": [
       "array([3, 6, 9])"
      ]
     },
     "execution_count": 18,
     "metadata": {},
     "output_type": "execute_result"
    }
   ],
   "source": [
    "a[:,2]"
   ]
  },
  {
   "cell_type": "code",
   "execution_count": 20,
   "id": "85045a4d-0419-4b6e-ac7e-53987b3f147a",
   "metadata": {},
   "outputs": [
    {
     "data": {
      "text/plain": [
       "8"
      ]
     },
     "execution_count": 20,
     "metadata": {},
     "output_type": "execute_result"
    }
   ],
   "source": [
    "a[2,1]"
   ]
  },
  {
   "cell_type": "code",
   "execution_count": 21,
   "id": "04dfb9dd-1be5-456f-8992-b47c6bbb6acc",
   "metadata": {},
   "outputs": [
    {
     "data": {
      "text/plain": [
       "array([4, 5, 6])"
      ]
     },
     "execution_count": 21,
     "metadata": {},
     "output_type": "execute_result"
    }
   ],
   "source": [
    "a[1,:]"
   ]
  },
  {
   "cell_type": "code",
   "execution_count": 22,
   "id": "36d34ea9-dd3d-4c2e-9746-245f8163f298",
   "metadata": {},
   "outputs": [
    {
     "data": {
      "text/plain": [
       "array([[ 2,  4,  6],\n",
       "       [ 8, 10, 12],\n",
       "       [14, 16, 18]])"
      ]
     },
     "execution_count": 22,
     "metadata": {},
     "output_type": "execute_result"
    }
   ],
   "source": [
    "a*2"
   ]
  },
  {
   "cell_type": "code",
   "execution_count": 23,
   "id": "d2dbb549-3adc-474b-85dd-ddeb9877de0d",
   "metadata": {},
   "outputs": [
    {
     "data": {
      "text/plain": [
       "array([[ 3,  4,  5],\n",
       "       [ 6,  7,  8],\n",
       "       [ 9, 10, 11]])"
      ]
     },
     "execution_count": 23,
     "metadata": {},
     "output_type": "execute_result"
    }
   ],
   "source": [
    "a+2"
   ]
  },
  {
   "cell_type": "code",
   "execution_count": 24,
   "id": "fcae72fc-d8a6-4955-a1e1-995802171d71",
   "metadata": {},
   "outputs": [
    {
     "data": {
      "text/plain": [
       "array([[-1,  0,  1],\n",
       "       [ 2,  3,  4],\n",
       "       [ 5,  6,  7]])"
      ]
     },
     "execution_count": 24,
     "metadata": {},
     "output_type": "execute_result"
    }
   ],
   "source": [
    "a-2"
   ]
  },
  {
   "cell_type": "code",
   "execution_count": 25,
   "id": "89b2690d-fbca-46a6-a06e-43303582ea99",
   "metadata": {},
   "outputs": [
    {
     "data": {
      "text/plain": [
       "array([[2, 3],\n",
       "       [5, 6],\n",
       "       [8, 9]])"
      ]
     },
     "execution_count": 25,
     "metadata": {},
     "output_type": "execute_result"
    }
   ],
   "source": [
    "a[:,[1,2]]"
   ]
  },
  {
   "cell_type": "code",
   "execution_count": 27,
   "id": "d053faa5-d57c-422b-ba08-5f12f3dc8be0",
   "metadata": {},
   "outputs": [
    {
     "data": {
      "text/plain": [
       "array([[19,  4, 17, 12,  6],\n",
       "       [13,  0,  6,  3,  6],\n",
       "       [ 8, 11, 10,  1,  8],\n",
       "       [ 7,  9, 16,  6, 18]])"
      ]
     },
     "execution_count": 27,
     "metadata": {},
     "output_type": "execute_result"
    }
   ],
   "source": [
    "z=np.random.randint(20, size=(4,5))\n",
    "z"
   ]
  },
  {
   "cell_type": "code",
   "execution_count": 30,
   "id": "039d06a9-62ac-4855-bf4b-e2b676b554be",
   "metadata": {},
   "outputs": [
    {
     "data": {
      "text/plain": [
       "array([[38,  8, 34, 24, 12],\n",
       "       [26,  0, 12,  6, 12],\n",
       "       [16, 22, 20,  2, 16],\n",
       "       [14, 18, 32, 12, 36]])"
      ]
     },
     "execution_count": 30,
     "metadata": {},
     "output_type": "execute_result"
    }
   ],
   "source": [
    "z*2"
   ]
  },
  {
   "cell_type": "code",
   "execution_count": 31,
   "id": "15950eff-c7d6-4465-b25e-9cc6b0e2aa84",
   "metadata": {},
   "outputs": [],
   "source": [
    "import pandas as pd"
   ]
  },
  {
   "cell_type": "code",
   "execution_count": 35,
   "id": "aec1fb28-4cc0-46ec-80c9-27d965053f3e",
   "metadata": {},
   "outputs": [
    {
     "data": {
      "text/plain": [
       "0    1\n",
       "1    2\n",
       "2    3\n",
       "3    7\n",
       "dtype: int64"
      ]
     },
     "execution_count": 35,
     "metadata": {},
     "output_type": "execute_result"
    }
   ],
   "source": [
    "pd.Series([1,2,3,7])"
   ]
  },
  {
   "cell_type": "code",
   "execution_count": 42,
   "id": "df1ff4bb-e0f0-4686-b17c-3b616a85d34e",
   "metadata": {},
   "outputs": [
    {
     "data": {
      "text/plain": [
       "0      1\n",
       "1      5\n",
       "2      7\n",
       "3      6\n",
       "4     45\n",
       "5    785\n",
       "6     10\n",
       "7      1\n",
       "8    270\n",
       "9      0\n",
       "dtype: int64"
      ]
     },
     "execution_count": 42,
     "metadata": {},
     "output_type": "execute_result"
    }
   ],
   "source": [
    "a=pd.Series([1,5,7,6,45,785,10,1,270,0])\n",
    "a"
   ]
  },
  {
   "cell_type": "code",
   "execution_count": 43,
   "id": "7ff2502a-c883-4fb0-bf2b-67cb41acb98a",
   "metadata": {},
   "outputs": [
    {
     "data": {
      "text/plain": [
       "0     1\n",
       "1     5\n",
       "2     7\n",
       "3     6\n",
       "4    45\n",
       "dtype: int64"
      ]
     },
     "execution_count": 43,
     "metadata": {},
     "output_type": "execute_result"
    }
   ],
   "source": [
    "a.head(5)"
   ]
  },
  {
   "cell_type": "code",
   "execution_count": 47,
   "id": "f2329ace-bd04-49f2-9166-506d4876d826",
   "metadata": {},
   "outputs": [
    {
     "data": {
      "text/plain": [
       "9      1\n",
       "8      5\n",
       "7      7\n",
       "6      6\n",
       "5     45\n",
       "4    785\n",
       "3     10\n",
       "2      1\n",
       "1    270\n",
       "0      0\n",
       "dtype: int64"
      ]
     },
     "execution_count": 47,
     "metadata": {},
     "output_type": "execute_result"
    }
   ],
   "source": [
    "p=pd.Series([1,5,7,6,45,785,10,1,270,0],index=(9,8,7,6,5,4,3,2,1,0))\n",
    "p"
   ]
  },
  {
   "cell_type": "code",
   "execution_count": 48,
   "id": "5d39ddd6-b57e-4c4d-b7c1-46bc26a23482",
   "metadata": {},
   "outputs": [
    {
     "data": {
      "text/plain": [
       "{'log': 11, 'reg': 20, 'cart': 10}"
      ]
     },
     "execution_count": 48,
     "metadata": {},
     "output_type": "execute_result"
    }
   ],
   "source": [
    "sozluk={\"log\":11 , \"reg\":20, \"cart\":10}\n",
    "sozluk"
   ]
  },
  {
   "cell_type": "code",
   "execution_count": 49,
   "id": "c59ecdc9-b4a6-420a-95de-3fe103cb1990",
   "metadata": {},
   "outputs": [
    {
     "data": {
      "text/plain": [
       "log     11\n",
       "reg     20\n",
       "cart    10\n",
       "dtype: int64"
      ]
     },
     "execution_count": 49,
     "metadata": {},
     "output_type": "execute_result"
    }
   ],
   "source": [
    "seri=pd.Series(sozluk)\n",
    "seri"
   ]
  },
  {
   "cell_type": "code",
   "execution_count": 123,
   "id": "d2bd811d-d250-4b78-8932-388d2523925d",
   "metadata": {},
   "outputs": [
    {
     "data": {
      "text/plain": [
       "aysun    20\n",
       "baris    21\n",
       "suna     22\n",
       "leyla    24\n",
       "dtype: int64"
      ]
     },
     "execution_count": 123,
     "metadata": {},
     "output_type": "execute_result"
    }
   ],
   "source": [
    "yas={\"aysun\":20, \"baris\":21, \"suna\":22, \"leyla\":24}\n",
    "bilgi=pd.Series(yas)\n",
    "bilgi"
   ]
  },
  {
   "cell_type": "code",
   "execution_count": 59,
   "id": "09db5462-06fb-4df2-8091-c87a00ed4ec4",
   "metadata": {},
   "outputs": [
    {
     "data": {
      "text/plain": [
       "21"
      ]
     },
     "execution_count": 59,
     "metadata": {},
     "output_type": "execute_result"
    }
   ],
   "source": [
    "bilgi[1]"
   ]
  },
  {
   "cell_type": "code",
   "execution_count": 61,
   "id": "45dba46d-05dd-4a67-bc71-9f3d19d73998",
   "metadata": {},
   "outputs": [
    {
     "data": {
      "text/plain": [
       "<bound method Series.keys of aysun    20\n",
       "baris    21\n",
       "suna     22\n",
       "leyla    24\n",
       "dtype: int64>"
      ]
     },
     "execution_count": 61,
     "metadata": {},
     "output_type": "execute_result"
    }
   ],
   "source": [
    "bilgi.keys"
   ]
  },
  {
   "cell_type": "code",
   "execution_count": 63,
   "id": "3a167b94-df3d-431a-b4c5-40588d4487ff",
   "metadata": {},
   "outputs": [
    {
     "data": {
      "text/plain": [
       "[('aysun', 20), ('baris', 21), ('suna', 22), ('leyla', 24)]"
      ]
     },
     "execution_count": 63,
     "metadata": {},
     "output_type": "execute_result"
    }
   ],
   "source": [
    "list(bilgi.items())"
   ]
  },
  {
   "cell_type": "code",
   "execution_count": 65,
   "id": "6a3ae0fc-3dbb-49d9-95cd-1d8bdcf28d67",
   "metadata": {},
   "outputs": [
    {
     "data": {
      "text/plain": [
       "aysun    20\n",
       "dtype: int64"
      ]
     },
     "execution_count": 65,
     "metadata": {},
     "output_type": "execute_result"
    }
   ],
   "source": [
    "bilgi[[\"aysun\"]]"
   ]
  },
  {
   "cell_type": "code",
   "execution_count": 124,
   "id": "c0b2d286-14e2-4cdb-b662-adc2a54cd7df",
   "metadata": {},
   "outputs": [
    {
     "data": {
      "text/plain": [
       "aysun    20\n",
       "baris    21\n",
       "dtype: int64"
      ]
     },
     "execution_count": 124,
     "metadata": {},
     "output_type": "execute_result"
    }
   ],
   "source": [
    "bilgi[[\"aysun\",\"baris\"]]"
   ]
  },
  {
   "cell_type": "code",
   "execution_count": 125,
   "id": "826228d1-3f04-4c4f-86b9-ed3501c74f11",
   "metadata": {},
   "outputs": [
    {
     "data": {
      "text/html": [
       "<div>\n",
       "<style scoped>\n",
       "    .dataframe tbody tr th:only-of-type {\n",
       "        vertical-align: middle;\n",
       "    }\n",
       "\n",
       "    .dataframe tbody tr th {\n",
       "        vertical-align: top;\n",
       "    }\n",
       "\n",
       "    .dataframe thead th {\n",
       "        text-align: right;\n",
       "    }\n",
       "</style>\n",
       "<table border=\"1\" class=\"dataframe\">\n",
       "  <thead>\n",
       "    <tr style=\"text-align: right;\">\n",
       "      <th></th>\n",
       "      <th>Yas</th>\n",
       "    </tr>\n",
       "  </thead>\n",
       "  <tbody>\n",
       "    <tr>\n",
       "      <th>aysun</th>\n",
       "      <td>20</td>\n",
       "    </tr>\n",
       "    <tr>\n",
       "      <th>baris</th>\n",
       "      <td>21</td>\n",
       "    </tr>\n",
       "    <tr>\n",
       "      <th>suna</th>\n",
       "      <td>22</td>\n",
       "    </tr>\n",
       "    <tr>\n",
       "      <th>leyla</th>\n",
       "      <td>24</td>\n",
       "    </tr>\n",
       "  </tbody>\n",
       "</table>\n",
       "</div>"
      ],
      "text/plain": [
       "       Yas\n",
       "aysun   20\n",
       "baris   21\n",
       "suna    22\n",
       "leyla   24"
      ]
     },
     "execution_count": 125,
     "metadata": {},
     "output_type": "execute_result"
    }
   ],
   "source": [
    " pd.DataFrame(bilgi, columns=[\"Yas\"])"
   ]
  },
  {
   "cell_type": "code",
   "execution_count": 89,
   "id": "51ffea46-4cda-4cfb-a50c-f2c3a3d56ca6",
   "metadata": {},
   "outputs": [],
   "source": [
    "import numpy as np\n",
    "m=np.arange(1,10).reshape(3,3)"
   ]
  },
  {
   "cell_type": "code",
   "execution_count": 90,
   "id": "04a7d510-74df-4839-80c2-a8ed26136b4f",
   "metadata": {},
   "outputs": [
    {
     "data": {
      "text/plain": [
       "array([[1, 2, 3],\n",
       "       [4, 5, 6],\n",
       "       [7, 8, 9]])"
      ]
     },
     "execution_count": 90,
     "metadata": {},
     "output_type": "execute_result"
    }
   ],
   "source": [
    "m"
   ]
  },
  {
   "cell_type": "code",
   "execution_count": 94,
   "id": "3bbfd80b-f1b9-476e-a11f-5fa385e7407e",
   "metadata": {},
   "outputs": [],
   "source": [
    "df = pd.DataFrame(m, columns = [\"var\", \"var2\", \"var3\"])"
   ]
  },
  {
   "cell_type": "code",
   "execution_count": 95,
   "id": "8d1a3fa2-8157-448e-99d9-7a621f724a00",
   "metadata": {},
   "outputs": [
    {
     "data": {
      "text/html": [
       "<div>\n",
       "<style scoped>\n",
       "    .dataframe tbody tr th:only-of-type {\n",
       "        vertical-align: middle;\n",
       "    }\n",
       "\n",
       "    .dataframe tbody tr th {\n",
       "        vertical-align: top;\n",
       "    }\n",
       "\n",
       "    .dataframe thead th {\n",
       "        text-align: right;\n",
       "    }\n",
       "</style>\n",
       "<table border=\"1\" class=\"dataframe\">\n",
       "  <thead>\n",
       "    <tr style=\"text-align: right;\">\n",
       "      <th></th>\n",
       "      <th>var</th>\n",
       "      <th>var2</th>\n",
       "      <th>var3</th>\n",
       "    </tr>\n",
       "  </thead>\n",
       "  <tbody>\n",
       "    <tr>\n",
       "      <th>0</th>\n",
       "      <td>1</td>\n",
       "      <td>2</td>\n",
       "      <td>3</td>\n",
       "    </tr>\n",
       "    <tr>\n",
       "      <th>1</th>\n",
       "      <td>4</td>\n",
       "      <td>5</td>\n",
       "      <td>6</td>\n",
       "    </tr>\n",
       "    <tr>\n",
       "      <th>2</th>\n",
       "      <td>7</td>\n",
       "      <td>8</td>\n",
       "      <td>9</td>\n",
       "    </tr>\n",
       "  </tbody>\n",
       "</table>\n",
       "</div>"
      ],
      "text/plain": [
       "   var  var2  var3\n",
       "0    1     2     3\n",
       "1    4     5     6\n",
       "2    7     8     9"
      ]
     },
     "execution_count": 95,
     "metadata": {},
     "output_type": "execute_result"
    }
   ],
   "source": [
    "df"
   ]
  },
  {
   "cell_type": "code",
   "execution_count": 96,
   "id": "e691a3a9-4dae-459a-a1c9-da366b970f7e",
   "metadata": {},
   "outputs": [
    {
     "data": {
      "text/plain": [
       "[RangeIndex(start=0, stop=3, step=1),\n",
       " Index(['var', 'var2', 'var3'], dtype='object')]"
      ]
     },
     "execution_count": 96,
     "metadata": {},
     "output_type": "execute_result"
    }
   ],
   "source": [
    "df.axes"
   ]
  },
  {
   "cell_type": "code",
   "execution_count": 97,
   "id": "59a3d5d6-56db-469e-8054-d391d28274de",
   "metadata": {},
   "outputs": [
    {
     "data": {
      "text/plain": [
       "aysun    20\n",
       "baris    21\n",
       "suna     22\n",
       "leyla    24\n",
       "dtype: int64"
      ]
     },
     "execution_count": 97,
     "metadata": {},
     "output_type": "execute_result"
    }
   ],
   "source": [
    "bilgi"
   ]
  },
  {
   "cell_type": "code",
   "execution_count": 103,
   "id": "00fb052f-c0eb-4319-a868-250a1da406a5",
   "metadata": {},
   "outputs": [],
   "source": [
    "a=np.arange(1,10).reshape(3,3)\n",
    "z= pd.DataFrame(a, columns =[\"yas\",\"dogum_tarihi\",\"kan_grubu\"])"
   ]
  },
  {
   "cell_type": "code",
   "execution_count": 104,
   "id": "1e6b4647-2d59-4aff-8f06-bcfd1698fc12",
   "metadata": {},
   "outputs": [
    {
     "data": {
      "text/html": [
       "<div>\n",
       "<style scoped>\n",
       "    .dataframe tbody tr th:only-of-type {\n",
       "        vertical-align: middle;\n",
       "    }\n",
       "\n",
       "    .dataframe tbody tr th {\n",
       "        vertical-align: top;\n",
       "    }\n",
       "\n",
       "    .dataframe thead th {\n",
       "        text-align: right;\n",
       "    }\n",
       "</style>\n",
       "<table border=\"1\" class=\"dataframe\">\n",
       "  <thead>\n",
       "    <tr style=\"text-align: right;\">\n",
       "      <th></th>\n",
       "      <th>yas</th>\n",
       "      <th>dogum_tarihi</th>\n",
       "      <th>kan_grubu</th>\n",
       "    </tr>\n",
       "  </thead>\n",
       "  <tbody>\n",
       "    <tr>\n",
       "      <th>0</th>\n",
       "      <td>1</td>\n",
       "      <td>2</td>\n",
       "      <td>3</td>\n",
       "    </tr>\n",
       "    <tr>\n",
       "      <th>1</th>\n",
       "      <td>4</td>\n",
       "      <td>5</td>\n",
       "      <td>6</td>\n",
       "    </tr>\n",
       "    <tr>\n",
       "      <th>2</th>\n",
       "      <td>7</td>\n",
       "      <td>8</td>\n",
       "      <td>9</td>\n",
       "    </tr>\n",
       "  </tbody>\n",
       "</table>\n",
       "</div>"
      ],
      "text/plain": [
       "   yas  dogum_tarihi  kan_grubu\n",
       "0    1             2          3\n",
       "1    4             5          6\n",
       "2    7             8          9"
      ]
     },
     "execution_count": 104,
     "metadata": {},
     "output_type": "execute_result"
    }
   ],
   "source": [
    "z"
   ]
  },
  {
   "cell_type": "code",
   "execution_count": 115,
   "id": "5fa52f25-31cb-4755-a0d2-70576f35c19f",
   "metadata": {},
   "outputs": [
    {
     "data": {
      "text/html": [
       "<div>\n",
       "<style scoped>\n",
       "    .dataframe tbody tr th:only-of-type {\n",
       "        vertical-align: middle;\n",
       "    }\n",
       "\n",
       "    .dataframe tbody tr th {\n",
       "        vertical-align: top;\n",
       "    }\n",
       "\n",
       "    .dataframe thead th {\n",
       "        text-align: right;\n",
       "    }\n",
       "</style>\n",
       "<table border=\"1\" class=\"dataframe\">\n",
       "  <thead>\n",
       "    <tr style=\"text-align: right;\">\n",
       "      <th></th>\n",
       "      <th>isim</th>\n",
       "      <th>yas</th>\n",
       "    </tr>\n",
       "  </thead>\n",
       "  <tbody>\n",
       "    <tr>\n",
       "      <th>0</th>\n",
       "      <td>aysun</td>\n",
       "      <td>20</td>\n",
       "    </tr>\n",
       "    <tr>\n",
       "      <th>1</th>\n",
       "      <td>baris</td>\n",
       "      <td>21</td>\n",
       "    </tr>\n",
       "    <tr>\n",
       "      <th>2</th>\n",
       "      <td>suna</td>\n",
       "      <td>22</td>\n",
       "    </tr>\n",
       "    <tr>\n",
       "      <th>3</th>\n",
       "      <td>leyla</td>\n",
       "      <td>24</td>\n",
       "    </tr>\n",
       "  </tbody>\n",
       "</table>\n",
       "</div>"
      ],
      "text/plain": [
       "    isim  yas\n",
       "0  aysun   20\n",
       "1  baris   21\n",
       "2   suna   22\n",
       "3  leyla   24"
      ]
     },
     "execution_count": 115,
     "metadata": {},
     "output_type": "execute_result"
    }
   ],
   "source": [
    "df1=pd.DataFrame({\"isim\":[\"aysun\",\"baris\",\"suna\",\"leyla\"],\n",
    "                 \"yas\":[20,21,22,24]})\n",
    "df1"
   ]
  },
  {
   "cell_type": "code",
   "execution_count": 119,
   "id": "df629466-6c84-4eac-a5dc-623898089df6",
   "metadata": {},
   "outputs": [
    {
     "data": {
      "text/plain": [
       "0    aysun\n",
       "1    baris\n",
       "2     suna\n",
       "3    leyla\n",
       "Name: isim, dtype: object"
      ]
     },
     "execution_count": 119,
     "metadata": {},
     "output_type": "execute_result"
    }
   ],
   "source": [
    "df1[\"isim\"]"
   ]
  },
  {
   "cell_type": "code",
   "execution_count": 125,
   "id": "497022f0-f9d9-4046-90e4-552f29af0d0e",
   "metadata": {
    "tags": []
   },
   "outputs": [
    {
     "data": {
      "text/plain": [
       "0    aysun\n",
       "1    baris\n",
       "Name: isim, dtype: object"
      ]
     },
     "execution_count": 125,
     "metadata": {},
     "output_type": "execute_result"
    }
   ],
   "source": [
    "df1[\"isim\"][0:2]"
   ]
  },
  {
   "cell_type": "markdown",
   "id": "9b3b5e4a-065c-48c9-b66f-b62a3abc635a",
   "metadata": {},
   "source": [
    "**  **"
   ]
  },
  {
   "cell_type": "code",
   "execution_count": 1,
   "id": "fc917c0a-2469-4bc1-8e01-c64072b28c73",
   "metadata": {},
   "outputs": [],
   "source": [
    "import numpy as np\n",
    "import pandas as pd"
   ]
  },
  {
   "cell_type": "code",
   "execution_count": 162,
   "id": "aedd0a59-bc34-49b0-838a-927eefa3b6ee",
   "metadata": {},
   "outputs": [
    {
     "data": {
      "text/html": [
       "<div>\n",
       "<style scoped>\n",
       "    .dataframe tbody tr th:only-of-type {\n",
       "        vertical-align: middle;\n",
       "    }\n",
       "\n",
       "    .dataframe tbody tr th {\n",
       "        vertical-align: top;\n",
       "    }\n",
       "\n",
       "    .dataframe thead th {\n",
       "        text-align: right;\n",
       "    }\n",
       "</style>\n",
       "<table border=\"1\" class=\"dataframe\">\n",
       "  <thead>\n",
       "    <tr style=\"text-align: right;\">\n",
       "      <th></th>\n",
       "      <th>Yönetmen</th>\n",
       "      <th>Film Adı</th>\n",
       "      <th>Yıl</th>\n",
       "      <th>Süre</th>\n",
       "      <th>Tür</th>\n",
       "      <th>Yetişkinlik Düzeyi</th>\n",
       "      <th>İzlenme Sayısı</th>\n",
       "    </tr>\n",
       "  </thead>\n",
       "  <tbody>\n",
       "    <tr>\n",
       "      <th>0</th>\n",
       "      <td>Davit Yarovesky</td>\n",
       "      <td>Brightburn</td>\n",
       "      <td>2019</td>\n",
       "      <td>1 sa. 30 dk</td>\n",
       "      <td>Bilim Kurgu</td>\n",
       "      <td>18 +</td>\n",
       "      <td>500000</td>\n",
       "    </tr>\n",
       "    <tr>\n",
       "      <th>1</th>\n",
       "      <td>Anthony Russo</td>\n",
       "      <td>The Gary Man</td>\n",
       "      <td>2022</td>\n",
       "      <td>2 sa. 9 dk</td>\n",
       "      <td>Kitaplardan uyarlanan</td>\n",
       "      <td>16 +</td>\n",
       "      <td>780999</td>\n",
       "    </tr>\n",
       "    <tr>\n",
       "      <th>2</th>\n",
       "      <td>Özgür Bakar</td>\n",
       "      <td>Hep Yek 4</td>\n",
       "      <td>2021</td>\n",
       "      <td>1 sa. 54 dk</td>\n",
       "      <td>Komedi</td>\n",
       "      <td>16 +</td>\n",
       "      <td>1000250</td>\n",
       "    </tr>\n",
       "    <tr>\n",
       "      <th>3</th>\n",
       "      <td>Chris Williams</td>\n",
       "      <td>Deniz Canavarı</td>\n",
       "      <td>2022</td>\n",
       "      <td>1 sa. 59 dk</td>\n",
       "      <td>Aile</td>\n",
       "      <td>7 +</td>\n",
       "      <td>25544870</td>\n",
       "    </tr>\n",
       "    <tr>\n",
       "      <th>4</th>\n",
       "      <td>Daniel Roby</td>\n",
       "      <td>Bir Numaralı Hedef</td>\n",
       "      <td>2020</td>\n",
       "      <td>2 sa. 5 dk</td>\n",
       "      <td>Gerilim</td>\n",
       "      <td>18 +</td>\n",
       "      <td>100000000</td>\n",
       "    </tr>\n",
       "    <tr>\n",
       "      <th>5</th>\n",
       "      <td>Kristoffer Rus</td>\n",
       "      <td>Masal Bitti,Ben Büyüdüm</td>\n",
       "      <td>2022</td>\n",
       "      <td>1 sa. 46 dk</td>\n",
       "      <td>Komedi,Aile</td>\n",
       "      <td>7 +</td>\n",
       "      <td>850451</td>\n",
       "    </tr>\n",
       "    <tr>\n",
       "      <th>6</th>\n",
       "      <td>Alejandro Montiel</td>\n",
       "      <td>Pıpa</td>\n",
       "      <td>2022</td>\n",
       "      <td>1 sa.56 dk</td>\n",
       "      <td>Gerilim,Drama</td>\n",
       "      <td>16 +</td>\n",
       "      <td>999451</td>\n",
       "    </tr>\n",
       "    <tr>\n",
       "      <th>7</th>\n",
       "      <td>Onur Bilgetay</td>\n",
       "      <td>Aykut Enişte 2</td>\n",
       "      <td>2021</td>\n",
       "      <td>1 sa. 58 dk</td>\n",
       "      <td>Komedi</td>\n",
       "      <td>13 +</td>\n",
       "      <td>657998</td>\n",
       "    </tr>\n",
       "    <tr>\n",
       "      <th>8</th>\n",
       "      <td>Deon Taylor</td>\n",
       "      <td>Çürük Elma</td>\n",
       "      <td>2019</td>\n",
       "      <td>1 sa. 47 dk</td>\n",
       "      <td>Aksiyon ve Macera</td>\n",
       "      <td>18 +</td>\n",
       "      <td>2850000</td>\n",
       "    </tr>\n",
       "    <tr>\n",
       "      <th>9</th>\n",
       "      <td>Carrie Cracknell</td>\n",
       "      <td>İkna</td>\n",
       "      <td>2022</td>\n",
       "      <td>1 sa. 49 dk</td>\n",
       "      <td>Romantik Komedi</td>\n",
       "      <td>7 +</td>\n",
       "      <td>1452888</td>\n",
       "    </tr>\n",
       "  </tbody>\n",
       "</table>\n",
       "</div>"
      ],
      "text/plain": [
       "            Yönetmen                 Film Adı   Yıl         Süre  \\\n",
       "0    Davit Yarovesky               Brightburn  2019  1 sa. 30 dk   \n",
       "1      Anthony Russo             The Gary Man  2022   2 sa. 9 dk   \n",
       "2        Özgür Bakar                Hep Yek 4  2021  1 sa. 54 dk   \n",
       "3     Chris Williams           Deniz Canavarı  2022  1 sa. 59 dk   \n",
       "4        Daniel Roby       Bir Numaralı Hedef  2020   2 sa. 5 dk   \n",
       "5     Kristoffer Rus  Masal Bitti,Ben Büyüdüm  2022  1 sa. 46 dk   \n",
       "6  Alejandro Montiel                     Pıpa  2022   1 sa.56 dk   \n",
       "7      Onur Bilgetay           Aykut Enişte 2  2021  1 sa. 58 dk   \n",
       "8        Deon Taylor               Çürük Elma  2019  1 sa. 47 dk   \n",
       "9   Carrie Cracknell                     İkna  2022  1 sa. 49 dk   \n",
       "\n",
       "                     Tür Yetişkinlik Düzeyi  İzlenme Sayısı  \n",
       "0            Bilim Kurgu               18 +          500000  \n",
       "1  Kitaplardan uyarlanan               16 +          780999  \n",
       "2                 Komedi               16 +         1000250  \n",
       "3                   Aile                7 +        25544870  \n",
       "4                Gerilim               18 +       100000000  \n",
       "5            Komedi,Aile                7 +          850451  \n",
       "6          Gerilim,Drama               16 +          999451  \n",
       "7                 Komedi               13 +          657998  \n",
       "8      Aksiyon ve Macera               18 +         2850000  \n",
       "9        Romantik Komedi                7 +         1452888  "
      ]
     },
     "execution_count": 162,
     "metadata": {},
     "output_type": "execute_result"
    }
   ],
   "source": [
    "neftlix=pd.DataFrame({\"Yönetmen\":[\"Davit Yarovesky\" ,\"Anthony Russo\" ,\"Özgür Bakar\" ,\"Chris Williams\" ,\"Daniel Roby\", \"Kristoffer Rus\" , \n",
    "                                  \"Alejandro Montiel\" , \"Onur Bilgetay\", \"Deon Taylor\",\"Carrie Cracknell\"],\n",
    "                      \"Film Adı\":[\"Brightburn\",\"The Gary Man\" , \"Hep Yek 4\", \"Deniz Canavarı\",\"Bir Numaralı Hedef\",\"Masal Bitti,Ben Büyüdüm\" , \"Pıpa\",\n",
    "                             \"Aykut Enişte 2\",\"Çürük Elma\",\"İkna\"],\n",
    "                      \"Yıl\":[2019,2022,2021,2022,2020,2022,2022,2021,2019,2022],\n",
    "                      \"Süre\":[\"1 sa. 30 dk\" , \"2 sa. 9 dk\", \"1 sa. 54 dk\" , \"1 sa. 59 dk\" ,\"2 sa. 5 dk\" ,\"1 sa. 46 dk\" , \"1 sa.56 dk\", \"1 sa. 58 dk\",\n",
    "                             \"1 sa. 47 dk\",\"1 sa. 49 dk\"],\n",
    "                      \"Tür\":[\"Bilim Kurgu\",\"Kitaplardan uyarlanan\", \"Komedi\",\"Aile\" ,\"Gerilim\",\"Komedi,Aile\" ,\"Gerilim,Drama\",\"Komedi\", \"Aksiyon ve Macera\",\n",
    "                            \"Romantik Komedi\"],\n",
    "                      \"Yetişkinlik Düzeyi\":[\"18 +\",\"16 +\",\"16 +\",\"7 +\",\"18 +\",\"7 +\",\"16 +\",\"13 +\",\"18 +\",\"7 +\"],\n",
    "                      \"İzlenme Sayısı\":[500000 ,780999 ,1000250 ,25544870,100000000 ,850451 ,999451 ,\n",
    "                                        657998 ,2850000,1452888]})\n",
    "neftlix"
   ]
  },
  {
   "cell_type": "code",
   "execution_count": 163,
   "id": "2f59a857-7528-408f-bcc3-f88833731a7c",
   "metadata": {},
   "outputs": [
    {
     "data": {
      "text/html": [
       "<div>\n",
       "<style scoped>\n",
       "    .dataframe tbody tr th:only-of-type {\n",
       "        vertical-align: middle;\n",
       "    }\n",
       "\n",
       "    .dataframe tbody tr th {\n",
       "        vertical-align: top;\n",
       "    }\n",
       "\n",
       "    .dataframe thead th {\n",
       "        text-align: right;\n",
       "    }\n",
       "</style>\n",
       "<table border=\"1\" class=\"dataframe\">\n",
       "  <thead>\n",
       "    <tr style=\"text-align: right;\">\n",
       "      <th></th>\n",
       "      <th>Yönetmen</th>\n",
       "      <th>Film Adı</th>\n",
       "      <th>Yıl</th>\n",
       "      <th>Tür</th>\n",
       "      <th>Yetişkinlik Düzeyi</th>\n",
       "      <th>İzlenme Sayısı</th>\n",
       "    </tr>\n",
       "    <tr>\n",
       "      <th>Süre</th>\n",
       "      <th></th>\n",
       "      <th></th>\n",
       "      <th></th>\n",
       "      <th></th>\n",
       "      <th></th>\n",
       "      <th></th>\n",
       "    </tr>\n",
       "  </thead>\n",
       "  <tbody>\n",
       "    <tr>\n",
       "      <th>1 sa. 30 dk</th>\n",
       "      <td>Davit Yarovesky</td>\n",
       "      <td>Brightburn</td>\n",
       "      <td>2019</td>\n",
       "      <td>Bilim Kurgu</td>\n",
       "      <td>18 +</td>\n",
       "      <td>500000</td>\n",
       "    </tr>\n",
       "    <tr>\n",
       "      <th>1 sa. 46 dk</th>\n",
       "      <td>Kristoffer Rus</td>\n",
       "      <td>Masal Bitti,Ben Büyüdüm</td>\n",
       "      <td>2022</td>\n",
       "      <td>Komedi,Aile</td>\n",
       "      <td>7 +</td>\n",
       "      <td>850451</td>\n",
       "    </tr>\n",
       "    <tr>\n",
       "      <th>1 sa. 47 dk</th>\n",
       "      <td>Deon Taylor</td>\n",
       "      <td>Çürük Elma</td>\n",
       "      <td>2019</td>\n",
       "      <td>Aksiyon ve Macera</td>\n",
       "      <td>18 +</td>\n",
       "      <td>2850000</td>\n",
       "    </tr>\n",
       "    <tr>\n",
       "      <th>1 sa. 49 dk</th>\n",
       "      <td>Carrie Cracknell</td>\n",
       "      <td>İkna</td>\n",
       "      <td>2022</td>\n",
       "      <td>Romantik Komedi</td>\n",
       "      <td>7 +</td>\n",
       "      <td>1452888</td>\n",
       "    </tr>\n",
       "    <tr>\n",
       "      <th>1 sa. 54 dk</th>\n",
       "      <td>Özgür Bakar</td>\n",
       "      <td>Hep Yek 4</td>\n",
       "      <td>2021</td>\n",
       "      <td>Komedi</td>\n",
       "      <td>16 +</td>\n",
       "      <td>1000250</td>\n",
       "    </tr>\n",
       "    <tr>\n",
       "      <th>1 sa. 58 dk</th>\n",
       "      <td>Onur Bilgetay</td>\n",
       "      <td>Aykut Enişte 2</td>\n",
       "      <td>2021</td>\n",
       "      <td>Komedi</td>\n",
       "      <td>13 +</td>\n",
       "      <td>657998</td>\n",
       "    </tr>\n",
       "    <tr>\n",
       "      <th>1 sa. 59 dk</th>\n",
       "      <td>Chris Williams</td>\n",
       "      <td>Deniz Canavarı</td>\n",
       "      <td>2022</td>\n",
       "      <td>Aile</td>\n",
       "      <td>7 +</td>\n",
       "      <td>25544870</td>\n",
       "    </tr>\n",
       "    <tr>\n",
       "      <th>1 sa.56 dk</th>\n",
       "      <td>Alejandro Montiel</td>\n",
       "      <td>Pıpa</td>\n",
       "      <td>2022</td>\n",
       "      <td>Gerilim,Drama</td>\n",
       "      <td>16 +</td>\n",
       "      <td>999451</td>\n",
       "    </tr>\n",
       "    <tr>\n",
       "      <th>2 sa. 5 dk</th>\n",
       "      <td>Daniel Roby</td>\n",
       "      <td>Bir Numaralı Hedef</td>\n",
       "      <td>2020</td>\n",
       "      <td>Gerilim</td>\n",
       "      <td>18 +</td>\n",
       "      <td>100000000</td>\n",
       "    </tr>\n",
       "    <tr>\n",
       "      <th>2 sa. 9 dk</th>\n",
       "      <td>Anthony Russo</td>\n",
       "      <td>The Gary Man</td>\n",
       "      <td>2022</td>\n",
       "      <td>Kitaplardan uyarlanan</td>\n",
       "      <td>16 +</td>\n",
       "      <td>780999</td>\n",
       "    </tr>\n",
       "  </tbody>\n",
       "</table>\n",
       "</div>"
      ],
      "text/plain": [
       "                      Yönetmen                 Film Adı   Yıl  \\\n",
       "Süre                                                            \n",
       "1 sa. 30 dk    Davit Yarovesky               Brightburn  2019   \n",
       "1 sa. 46 dk     Kristoffer Rus  Masal Bitti,Ben Büyüdüm  2022   \n",
       "1 sa. 47 dk        Deon Taylor               Çürük Elma  2019   \n",
       "1 sa. 49 dk   Carrie Cracknell                     İkna  2022   \n",
       "1 sa. 54 dk        Özgür Bakar                Hep Yek 4  2021   \n",
       "1 sa. 58 dk      Onur Bilgetay           Aykut Enişte 2  2021   \n",
       "1 sa. 59 dk     Chris Williams           Deniz Canavarı  2022   \n",
       "1 sa.56 dk   Alejandro Montiel                     Pıpa  2022   \n",
       "2 sa. 5 dk         Daniel Roby       Bir Numaralı Hedef  2020   \n",
       "2 sa. 9 dk       Anthony Russo             The Gary Man  2022   \n",
       "\n",
       "                               Tür Yetişkinlik Düzeyi  İzlenme Sayısı  \n",
       "Süre                                                                   \n",
       "1 sa. 30 dk            Bilim Kurgu               18 +          500000  \n",
       "1 sa. 46 dk            Komedi,Aile                7 +          850451  \n",
       "1 sa. 47 dk      Aksiyon ve Macera               18 +         2850000  \n",
       "1 sa. 49 dk        Romantik Komedi                7 +         1452888  \n",
       "1 sa. 54 dk                 Komedi               16 +         1000250  \n",
       "1 sa. 58 dk                 Komedi               13 +          657998  \n",
       "1 sa. 59 dk                   Aile                7 +        25544870  \n",
       "1 sa.56 dk           Gerilim,Drama               16 +          999451  \n",
       "2 sa. 5 dk                 Gerilim               18 +       100000000  \n",
       "2 sa. 9 dk   Kitaplardan uyarlanan               16 +          780999  "
      ]
     },
     "execution_count": 163,
     "metadata": {},
     "output_type": "execute_result"
    }
   ],
   "source": [
    "neftlix.groupby(\"Süre\").min()"
   ]
  },
  {
   "cell_type": "code",
   "execution_count": 164,
   "id": "77f6985a-0907-487d-9703-df3acedff6c6",
   "metadata": {},
   "outputs": [
    {
     "data": {
      "text/html": [
       "<div>\n",
       "<style scoped>\n",
       "    .dataframe tbody tr th:only-of-type {\n",
       "        vertical-align: middle;\n",
       "    }\n",
       "\n",
       "    .dataframe tbody tr th {\n",
       "        vertical-align: top;\n",
       "    }\n",
       "\n",
       "    .dataframe thead th {\n",
       "        text-align: right;\n",
       "    }\n",
       "</style>\n",
       "<table border=\"1\" class=\"dataframe\">\n",
       "  <thead>\n",
       "    <tr style=\"text-align: right;\">\n",
       "      <th></th>\n",
       "      <th>Yönetmen</th>\n",
       "      <th>Film Adı</th>\n",
       "      <th>Yıl</th>\n",
       "      <th>Süre</th>\n",
       "      <th>Tür</th>\n",
       "      <th>İzlenme Sayısı</th>\n",
       "    </tr>\n",
       "    <tr>\n",
       "      <th>Yetişkinlik Düzeyi</th>\n",
       "      <th></th>\n",
       "      <th></th>\n",
       "      <th></th>\n",
       "      <th></th>\n",
       "      <th></th>\n",
       "      <th></th>\n",
       "    </tr>\n",
       "  </thead>\n",
       "  <tbody>\n",
       "    <tr>\n",
       "      <th>13 +</th>\n",
       "      <td>1</td>\n",
       "      <td>1</td>\n",
       "      <td>1</td>\n",
       "      <td>1</td>\n",
       "      <td>1</td>\n",
       "      <td>1</td>\n",
       "    </tr>\n",
       "    <tr>\n",
       "      <th>16 +</th>\n",
       "      <td>3</td>\n",
       "      <td>3</td>\n",
       "      <td>3</td>\n",
       "      <td>3</td>\n",
       "      <td>3</td>\n",
       "      <td>3</td>\n",
       "    </tr>\n",
       "    <tr>\n",
       "      <th>18 +</th>\n",
       "      <td>3</td>\n",
       "      <td>3</td>\n",
       "      <td>3</td>\n",
       "      <td>3</td>\n",
       "      <td>3</td>\n",
       "      <td>3</td>\n",
       "    </tr>\n",
       "    <tr>\n",
       "      <th>7 +</th>\n",
       "      <td>3</td>\n",
       "      <td>3</td>\n",
       "      <td>3</td>\n",
       "      <td>3</td>\n",
       "      <td>3</td>\n",
       "      <td>3</td>\n",
       "    </tr>\n",
       "  </tbody>\n",
       "</table>\n",
       "</div>"
      ],
      "text/plain": [
       "                    Yönetmen  Film Adı  Yıl  Süre  Tür  İzlenme Sayısı\n",
       "Yetişkinlik Düzeyi                                                    \n",
       "13 +                       1         1    1     1    1               1\n",
       "16 +                       3         3    3     3    3               3\n",
       "18 +                       3         3    3     3    3               3\n",
       "7 +                        3         3    3     3    3               3"
      ]
     },
     "execution_count": 164,
     "metadata": {},
     "output_type": "execute_result"
    }
   ],
   "source": [
    "neftlix.groupby(\"Yetişkinlik Düzeyi\").count()"
   ]
  },
  {
   "cell_type": "code",
   "execution_count": 165,
   "id": "4549ee84-fd36-4276-ae7e-5ec30e7b499b",
   "metadata": {},
   "outputs": [
    {
     "data": {
      "text/html": [
       "<div>\n",
       "<style scoped>\n",
       "    .dataframe tbody tr th:only-of-type {\n",
       "        vertical-align: middle;\n",
       "    }\n",
       "\n",
       "    .dataframe tbody tr th {\n",
       "        vertical-align: top;\n",
       "    }\n",
       "\n",
       "    .dataframe thead th {\n",
       "        text-align: right;\n",
       "    }\n",
       "</style>\n",
       "<table border=\"1\" class=\"dataframe\">\n",
       "  <thead>\n",
       "    <tr style=\"text-align: right;\">\n",
       "      <th></th>\n",
       "      <th>Yönetmen</th>\n",
       "      <th>Film Adı</th>\n",
       "      <th>Yıl</th>\n",
       "      <th>Süre</th>\n",
       "      <th>Tür</th>\n",
       "      <th>Yetişkinlik Düzeyi</th>\n",
       "      <th>İzlenme Sayısı</th>\n",
       "    </tr>\n",
       "  </thead>\n",
       "  <tbody>\n",
       "    <tr>\n",
       "      <th>0</th>\n",
       "      <td>Davit Yarovesky</td>\n",
       "      <td>Brightburn</td>\n",
       "      <td>2019</td>\n",
       "      <td>1 sa. 30 dk</td>\n",
       "      <td>Bilim Kurgu</td>\n",
       "      <td>18 +</td>\n",
       "      <td>500000</td>\n",
       "    </tr>\n",
       "    <tr>\n",
       "      <th>4</th>\n",
       "      <td>Daniel Roby</td>\n",
       "      <td>Bir Numaralı Hedef</td>\n",
       "      <td>2020</td>\n",
       "      <td>2 sa. 5 dk</td>\n",
       "      <td>Gerilim</td>\n",
       "      <td>18 +</td>\n",
       "      <td>100000000</td>\n",
       "    </tr>\n",
       "    <tr>\n",
       "      <th>8</th>\n",
       "      <td>Deon Taylor</td>\n",
       "      <td>Çürük Elma</td>\n",
       "      <td>2019</td>\n",
       "      <td>1 sa. 47 dk</td>\n",
       "      <td>Aksiyon ve Macera</td>\n",
       "      <td>18 +</td>\n",
       "      <td>2850000</td>\n",
       "    </tr>\n",
       "  </tbody>\n",
       "</table>\n",
       "</div>"
      ],
      "text/plain": [
       "          Yönetmen            Film Adı   Yıl         Süre                Tür  \\\n",
       "0  Davit Yarovesky          Brightburn  2019  1 sa. 30 dk        Bilim Kurgu   \n",
       "4      Daniel Roby  Bir Numaralı Hedef  2020   2 sa. 5 dk            Gerilim   \n",
       "8      Deon Taylor          Çürük Elma  2019  1 sa. 47 dk  Aksiyon ve Macera   \n",
       "\n",
       "  Yetişkinlik Düzeyi  İzlenme Sayısı  \n",
       "0               18 +          500000  \n",
       "4               18 +       100000000  \n",
       "8               18 +         2850000  "
      ]
     },
     "execution_count": 165,
     "metadata": {},
     "output_type": "execute_result"
    }
   ],
   "source": [
    "neftlix[(neftlix.Yıl < 2021)]"
   ]
  },
  {
   "cell_type": "code",
   "execution_count": 166,
   "id": "815a2898-c985-45c6-981a-575a689e94a4",
   "metadata": {},
   "outputs": [
    {
     "data": {
      "text/html": [
       "<div>\n",
       "<style scoped>\n",
       "    .dataframe tbody tr th:only-of-type {\n",
       "        vertical-align: middle;\n",
       "    }\n",
       "\n",
       "    .dataframe tbody tr th {\n",
       "        vertical-align: top;\n",
       "    }\n",
       "\n",
       "    .dataframe thead th {\n",
       "        text-align: right;\n",
       "    }\n",
       "</style>\n",
       "<table border=\"1\" class=\"dataframe\">\n",
       "  <thead>\n",
       "    <tr style=\"text-align: right;\">\n",
       "      <th></th>\n",
       "      <th>Yönetmen</th>\n",
       "      <th>Film Adı</th>\n",
       "      <th>Yıl</th>\n",
       "      <th>Süre</th>\n",
       "      <th>Yetişkinlik Düzeyi</th>\n",
       "      <th>İzlenme Sayısı</th>\n",
       "    </tr>\n",
       "    <tr>\n",
       "      <th>Tür</th>\n",
       "      <th></th>\n",
       "      <th></th>\n",
       "      <th></th>\n",
       "      <th></th>\n",
       "      <th></th>\n",
       "      <th></th>\n",
       "    </tr>\n",
       "  </thead>\n",
       "  <tbody>\n",
       "    <tr>\n",
       "      <th>Aile</th>\n",
       "      <td>1</td>\n",
       "      <td>1</td>\n",
       "      <td>1</td>\n",
       "      <td>1</td>\n",
       "      <td>1</td>\n",
       "      <td>1</td>\n",
       "    </tr>\n",
       "    <tr>\n",
       "      <th>Aksiyon ve Macera</th>\n",
       "      <td>1</td>\n",
       "      <td>1</td>\n",
       "      <td>1</td>\n",
       "      <td>1</td>\n",
       "      <td>1</td>\n",
       "      <td>1</td>\n",
       "    </tr>\n",
       "    <tr>\n",
       "      <th>Bilim Kurgu</th>\n",
       "      <td>1</td>\n",
       "      <td>1</td>\n",
       "      <td>1</td>\n",
       "      <td>1</td>\n",
       "      <td>1</td>\n",
       "      <td>1</td>\n",
       "    </tr>\n",
       "    <tr>\n",
       "      <th>Gerilim</th>\n",
       "      <td>1</td>\n",
       "      <td>1</td>\n",
       "      <td>1</td>\n",
       "      <td>1</td>\n",
       "      <td>1</td>\n",
       "      <td>1</td>\n",
       "    </tr>\n",
       "    <tr>\n",
       "      <th>Gerilim,Drama</th>\n",
       "      <td>1</td>\n",
       "      <td>1</td>\n",
       "      <td>1</td>\n",
       "      <td>1</td>\n",
       "      <td>1</td>\n",
       "      <td>1</td>\n",
       "    </tr>\n",
       "    <tr>\n",
       "      <th>Kitaplardan uyarlanan</th>\n",
       "      <td>1</td>\n",
       "      <td>1</td>\n",
       "      <td>1</td>\n",
       "      <td>1</td>\n",
       "      <td>1</td>\n",
       "      <td>1</td>\n",
       "    </tr>\n",
       "    <tr>\n",
       "      <th>Komedi</th>\n",
       "      <td>2</td>\n",
       "      <td>2</td>\n",
       "      <td>2</td>\n",
       "      <td>2</td>\n",
       "      <td>2</td>\n",
       "      <td>2</td>\n",
       "    </tr>\n",
       "    <tr>\n",
       "      <th>Komedi,Aile</th>\n",
       "      <td>1</td>\n",
       "      <td>1</td>\n",
       "      <td>1</td>\n",
       "      <td>1</td>\n",
       "      <td>1</td>\n",
       "      <td>1</td>\n",
       "    </tr>\n",
       "    <tr>\n",
       "      <th>Romantik Komedi</th>\n",
       "      <td>1</td>\n",
       "      <td>1</td>\n",
       "      <td>1</td>\n",
       "      <td>1</td>\n",
       "      <td>1</td>\n",
       "      <td>1</td>\n",
       "    </tr>\n",
       "  </tbody>\n",
       "</table>\n",
       "</div>"
      ],
      "text/plain": [
       "                       Yönetmen  Film Adı  Yıl  Süre  Yetişkinlik Düzeyi  \\\n",
       "Tür                                                                        \n",
       "Aile                          1         1    1     1                   1   \n",
       "Aksiyon ve Macera             1         1    1     1                   1   \n",
       "Bilim Kurgu                   1         1    1     1                   1   \n",
       "Gerilim                       1         1    1     1                   1   \n",
       "Gerilim,Drama                 1         1    1     1                   1   \n",
       "Kitaplardan uyarlanan         1         1    1     1                   1   \n",
       "Komedi                        2         2    2     2                   2   \n",
       "Komedi,Aile                   1         1    1     1                   1   \n",
       "Romantik Komedi               1         1    1     1                   1   \n",
       "\n",
       "                       İzlenme Sayısı  \n",
       "Tür                                    \n",
       "Aile                                1  \n",
       "Aksiyon ve Macera                   1  \n",
       "Bilim Kurgu                         1  \n",
       "Gerilim                             1  \n",
       "Gerilim,Drama                       1  \n",
       "Kitaplardan uyarlanan               1  \n",
       "Komedi                              2  \n",
       "Komedi,Aile                         1  \n",
       "Romantik Komedi                     1  "
      ]
     },
     "execution_count": 166,
     "metadata": {},
     "output_type": "execute_result"
    }
   ],
   "source": [
    "neftlix.groupby(\"Tür\").count()"
   ]
  },
  {
   "cell_type": "code",
   "execution_count": 173,
   "id": "a16e1277-dc68-46f4-8885-acfda7d49b30",
   "metadata": {},
   "outputs": [
    {
     "data": {
      "text/html": [
       "<div>\n",
       "<style scoped>\n",
       "    .dataframe tbody tr th:only-of-type {\n",
       "        vertical-align: middle;\n",
       "    }\n",
       "\n",
       "    .dataframe tbody tr th {\n",
       "        vertical-align: top;\n",
       "    }\n",
       "\n",
       "    .dataframe thead th {\n",
       "        text-align: right;\n",
       "    }\n",
       "</style>\n",
       "<table border=\"1\" class=\"dataframe\">\n",
       "  <thead>\n",
       "    <tr style=\"text-align: right;\">\n",
       "      <th></th>\n",
       "      <th>Yönetmen</th>\n",
       "      <th>Film Adı</th>\n",
       "      <th>Yıl</th>\n",
       "      <th>Süre</th>\n",
       "      <th>Tür</th>\n",
       "      <th>Yetişkinlik Düzeyi</th>\n",
       "    </tr>\n",
       "    <tr>\n",
       "      <th>İzlenme Sayısı</th>\n",
       "      <th></th>\n",
       "      <th></th>\n",
       "      <th></th>\n",
       "      <th></th>\n",
       "      <th></th>\n",
       "      <th></th>\n",
       "    </tr>\n",
       "  </thead>\n",
       "  <tbody>\n",
       "    <tr>\n",
       "      <th>500000</th>\n",
       "      <td>Davit Yarovesky</td>\n",
       "      <td>Brightburn</td>\n",
       "      <td>2019</td>\n",
       "      <td>1 sa. 30 dk</td>\n",
       "      <td>Bilim Kurgu</td>\n",
       "      <td>18 +</td>\n",
       "    </tr>\n",
       "    <tr>\n",
       "      <th>657998</th>\n",
       "      <td>Onur Bilgetay</td>\n",
       "      <td>Aykut Enişte 2</td>\n",
       "      <td>2021</td>\n",
       "      <td>1 sa. 58 dk</td>\n",
       "      <td>Komedi</td>\n",
       "      <td>13 +</td>\n",
       "    </tr>\n",
       "    <tr>\n",
       "      <th>780999</th>\n",
       "      <td>Anthony Russo</td>\n",
       "      <td>The Gary Man</td>\n",
       "      <td>2022</td>\n",
       "      <td>2 sa. 9 dk</td>\n",
       "      <td>Kitaplardan uyarlanan</td>\n",
       "      <td>16 +</td>\n",
       "    </tr>\n",
       "    <tr>\n",
       "      <th>850451</th>\n",
       "      <td>Kristoffer Rus</td>\n",
       "      <td>Masal Bitti,Ben Büyüdüm</td>\n",
       "      <td>2022</td>\n",
       "      <td>1 sa. 46 dk</td>\n",
       "      <td>Komedi,Aile</td>\n",
       "      <td>7 +</td>\n",
       "    </tr>\n",
       "    <tr>\n",
       "      <th>999451</th>\n",
       "      <td>Alejandro Montiel</td>\n",
       "      <td>Pıpa</td>\n",
       "      <td>2022</td>\n",
       "      <td>1 sa.56 dk</td>\n",
       "      <td>Gerilim,Drama</td>\n",
       "      <td>16 +</td>\n",
       "    </tr>\n",
       "    <tr>\n",
       "      <th>1000250</th>\n",
       "      <td>Özgür Bakar</td>\n",
       "      <td>Hep Yek 4</td>\n",
       "      <td>2021</td>\n",
       "      <td>1 sa. 54 dk</td>\n",
       "      <td>Komedi</td>\n",
       "      <td>16 +</td>\n",
       "    </tr>\n",
       "    <tr>\n",
       "      <th>1452888</th>\n",
       "      <td>Carrie Cracknell</td>\n",
       "      <td>İkna</td>\n",
       "      <td>2022</td>\n",
       "      <td>1 sa. 49 dk</td>\n",
       "      <td>Romantik Komedi</td>\n",
       "      <td>7 +</td>\n",
       "    </tr>\n",
       "    <tr>\n",
       "      <th>2850000</th>\n",
       "      <td>Deon Taylor</td>\n",
       "      <td>Çürük Elma</td>\n",
       "      <td>2019</td>\n",
       "      <td>1 sa. 47 dk</td>\n",
       "      <td>Aksiyon ve Macera</td>\n",
       "      <td>18 +</td>\n",
       "    </tr>\n",
       "    <tr>\n",
       "      <th>25544870</th>\n",
       "      <td>Chris Williams</td>\n",
       "      <td>Deniz Canavarı</td>\n",
       "      <td>2022</td>\n",
       "      <td>1 sa. 59 dk</td>\n",
       "      <td>Aile</td>\n",
       "      <td>7 +</td>\n",
       "    </tr>\n",
       "    <tr>\n",
       "      <th>100000000</th>\n",
       "      <td>Daniel Roby</td>\n",
       "      <td>Bir Numaralı Hedef</td>\n",
       "      <td>2020</td>\n",
       "      <td>2 sa. 5 dk</td>\n",
       "      <td>Gerilim</td>\n",
       "      <td>18 +</td>\n",
       "    </tr>\n",
       "  </tbody>\n",
       "</table>\n",
       "</div>"
      ],
      "text/plain": [
       "                         Yönetmen                 Film Adı   Yıl         Süre  \\\n",
       "İzlenme Sayısı                                                                  \n",
       "500000            Davit Yarovesky               Brightburn  2019  1 sa. 30 dk   \n",
       "657998              Onur Bilgetay           Aykut Enişte 2  2021  1 sa. 58 dk   \n",
       "780999              Anthony Russo             The Gary Man  2022   2 sa. 9 dk   \n",
       "850451             Kristoffer Rus  Masal Bitti,Ben Büyüdüm  2022  1 sa. 46 dk   \n",
       "999451          Alejandro Montiel                     Pıpa  2022   1 sa.56 dk   \n",
       "1000250               Özgür Bakar                Hep Yek 4  2021  1 sa. 54 dk   \n",
       "1452888          Carrie Cracknell                     İkna  2022  1 sa. 49 dk   \n",
       "2850000               Deon Taylor               Çürük Elma  2019  1 sa. 47 dk   \n",
       "25544870           Chris Williams           Deniz Canavarı  2022  1 sa. 59 dk   \n",
       "100000000             Daniel Roby       Bir Numaralı Hedef  2020   2 sa. 5 dk   \n",
       "\n",
       "                                  Tür Yetişkinlik Düzeyi  \n",
       "İzlenme Sayısı                                            \n",
       "500000                    Bilim Kurgu               18 +  \n",
       "657998                         Komedi               13 +  \n",
       "780999          Kitaplardan uyarlanan               16 +  \n",
       "850451                    Komedi,Aile                7 +  \n",
       "999451                  Gerilim,Drama               16 +  \n",
       "1000250                        Komedi               16 +  \n",
       "1452888               Romantik Komedi                7 +  \n",
       "2850000             Aksiyon ve Macera               18 +  \n",
       "25544870                         Aile                7 +  \n",
       "100000000                     Gerilim               18 +  "
      ]
     },
     "execution_count": 173,
     "metadata": {},
     "output_type": "execute_result"
    }
   ],
   "source": [
    "neftlix.groupby(\"İzlenme Sayısı\").min()"
   ]
  },
  {
   "cell_type": "code",
   "execution_count": 169,
   "id": "5b812f78-f280-4b8e-9271-6339c11a4002",
   "metadata": {},
   "outputs": [
    {
     "data": {
      "text/plain": [
       "Yıl\n",
       "2019      3350000\n",
       "2020    100000000\n",
       "2021      1658248\n",
       "2022     29628659\n",
       "Name: İzlenme Sayısı, dtype: int64"
      ]
     },
     "execution_count": 169,
     "metadata": {},
     "output_type": "execute_result"
    }
   ],
   "source": [
    "neftlix.groupby(\"Yıl\")[\"İzlenme Sayısı\"].sum()"
   ]
  },
  {
   "cell_type": "code",
   "execution_count": 1,
   "id": "7816089d-1116-467c-8e70-b5290844c89e",
   "metadata": {},
   "outputs": [
    {
     "ename": "NameError",
     "evalue": "name 'neftlix' is not defined",
     "output_type": "error",
     "traceback": [
      "\u001b[1;31m---------------------------------------------------------------------------\u001b[0m",
      "\u001b[1;31mNameError\u001b[0m                                 Traceback (most recent call last)",
      "\u001b[1;32mc:\\Users\\Aysun\\Desktop\\veri_manipülasyonu\\konuları_pekiştirme.ipynb Hücre 50\u001b[0m in \u001b[0;36m<cell line: 1>\u001b[1;34m()\u001b[0m\n\u001b[1;32m----> <a href='vscode-notebook-cell:/c%3A/Users/Aysun/Desktop/veri_manip%C3%BClasyonu/konular%C4%B1_peki%C5%9Ftirme.ipynb#ch0000049?line=0'>1</a>\u001b[0m neftlix\u001b[39m.\u001b[39mgroupby(\u001b[39m\"\u001b[39m\u001b[39mYıl\u001b[39m\u001b[39m\"\u001b[39m)[\u001b[39m\"\u001b[39m\u001b[39mİzlenme Sayısı\u001b[39m\u001b[39m\"\u001b[39m]\u001b[39m.\u001b[39mdescribe()\n",
      "\u001b[1;31mNameError\u001b[0m: name 'neftlix' is not defined"
     ]
    }
   ],
   "source": [
    "neftlix.groupby(\"Yıl\")[\"İzlenme Sayısı\"].describe()"
   ]
  },
  {
   "cell_type": "code",
   "execution_count": null,
   "id": "202c5eaf-79d4-439e-8826-bb5d02811fa9",
   "metadata": {},
   "outputs": [],
   "source": []
  }
 ],
 "metadata": {
  "kernelspec": {
   "display_name": "Python 3.10.2 64-bit",
   "language": "python",
   "name": "python3"
  },
  "language_info": {
   "codemirror_mode": {
    "name": "ipython",
    "version": 3
   },
   "file_extension": ".py",
   "mimetype": "text/x-python",
   "name": "python",
   "nbconvert_exporter": "python",
   "pygments_lexer": "ipython3",
   "version": "3.10.2"
  },
  "vscode": {
   "interpreter": {
    "hash": "8ac3d09e6c6726bdf8ee93f2334576e751e94c038e537135181ebf17145f5d4f"
   }
  }
 },
 "nbformat": 4,
 "nbformat_minor": 5
}
